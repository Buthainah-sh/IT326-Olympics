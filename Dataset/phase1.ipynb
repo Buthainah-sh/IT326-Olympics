{
 "cells": [
  {
   "cell_type": "code",
   "execution_count": 1,
   "metadata": {},
   "outputs": [],
   "source": [
    "import pandas as pd\n",
    "df = pd.read_csv('dataset_olympics.csv')"
   ]
  },
  {
   "cell_type": "code",
   "execution_count": 2,
   "metadata": {},
   "outputs": [
    {
     "name": "stdout",
     "output_type": "stream",
     "text": [
      "Attribute names:\n",
      " Index(['ID', 'Name', 'Sex', 'Age', 'Height', 'Weight', 'Team', 'NOC', 'Games',\n",
      "       'Year', 'Season', 'City', 'Sport', 'Event', 'Medal'],\n",
      "      dtype='object')\n"
     ]
    }
   ],
   "source": [
    "# Display the attribute (column) names\n",
    "print(\"Attribute names:\\n\", df.columns)"
   ]
  },
  {
   "cell_type": "code",
   "execution_count": 3,
   "metadata": {},
   "outputs": [
    {
     "name": "stdout",
     "output_type": "stream",
     "text": [
      "\n",
      "Data types:\n",
      " ID          int64\n",
      "Name       object\n",
      "Sex        object\n",
      "Age       float64\n",
      "Height    float64\n",
      "Weight    float64\n",
      "Team       object\n",
      "NOC        object\n",
      "Games      object\n",
      "Year        int64\n",
      "Season     object\n",
      "City       object\n",
      "Sport      object\n",
      "Event      object\n",
      "Medal      object\n",
      "dtype: object\n"
     ]
    }
   ],
   "source": [
    "# Display the data types of each column\n",
    "print(\"\\nData types:\\n\", df.dtypes)"
   ]
  },
  {
   "cell_type": "code",
   "execution_count": 4,
   "metadata": {},
   "outputs": [
    {
     "name": "stdout",
     "output_type": "stream",
     "text": [
      "\n",
      "Number of attributes: 15\n",
      "Number of objects: 70000\n"
     ]
    }
   ],
   "source": [
    "# Display the number of attributes (columns) and objects (rows)\n",
    "print(\"\\nNumber of attributes:\", len(df.columns))\n",
    "print(\"Number of objects:\", len(df))"
   ]
  },
  {
   "cell_type": "code",
   "execution_count": 8,
   "metadata": {},
   "outputs": [
    {
     "name": "stdout",
     "output_type": "stream",
     "text": [
      "Missing values in each column\n",
      "ID            0\n",
      "Name          0\n",
      "Sex           0\n",
      "Age        2732\n",
      "Height    16254\n",
      "Weight    17101\n",
      "Team          0\n",
      "NOC           0\n",
      "Games         0\n",
      "Year          0\n",
      "Season        0\n",
      "City          0\n",
      "Sport         0\n",
      "Event         0\n",
      "Medal     60310\n",
      "dtype: int64\n",
      "\n",
      " Total number of missing values : 96397\n"
     ]
    }
   ],
   "source": [
    "#Calculate missing values\n",
    "missing_values=df.isna().sum()\n",
    "print('Missing values in each column')\n",
    "print(missing_values)\n",
    "print('\\n Total number of missing values :',missing_values.sum())"
   ]
  },
  {
   "cell_type": "code",
   "execution_count": 9,
   "metadata": {},
   "outputs": [
    {
     "name": "stdout",
     "output_type": "stream",
     "text": [
      "   Height  Weight Sex        BMI\n",
      "0    1.80    80.0   M  24.691358\n",
      "1    1.70    60.0   M  20.761246\n",
      "2     NaN     NaN   M        NaN\n",
      "3     NaN     NaN   M        NaN\n",
      "4    1.85    82.0   F  23.959094\n",
      "5    1.85    82.0   F  23.959094\n",
      "6    1.85    82.0   F  23.959094\n",
      "7    1.85    82.0   F  23.959094\n",
      "8    1.85    82.0   F  23.959094\n",
      "9    1.85    82.0   F  23.959094\n"
     ]
    }
   ],
   "source": [
    "#make a new column for bmi\n",
    "df['Height'] = df['Height'] / 100\n",
    "df['BMI'] = df['Weight'] / (df['Height'] ** 2)\n",
    "print(df[['Height', 'Weight','Sex','BMI']].head(10))\n"
   ]
  },
  {
   "cell_type": "code",
   "execution_count": 17,
   "metadata": {},
   "outputs": [
    {
     "name": "stdout",
     "output_type": "stream",
     "text": [
      "                Age        Weight        Height           BMI\n",
      "count  67268.000000  52899.000000  53746.000000  52522.000000\n",
      "mean      25.644645     70.900216      1.755053     22.809656\n",
      "std        6.485239     14.217489      0.103842      2.939851\n",
      "min       11.000000     25.000000      1.270000     12.267562\n",
      "25%       21.000000     61.000000      1.680000     20.957274\n",
      "50%       25.000000     70.000000      1.750000     22.530864\n",
      "75%       28.000000     79.000000      1.830000     24.187046\n",
      "max       88.000000    214.000000      2.230000     63.901580\n"
     ]
    }
   ],
   "source": [
    "# Descriptive statistics for numeric values\n",
    "print(df[['Age','Weight','Height', 'BMI']].describe())"
   ]
  },
  {
   "cell_type": "code",
   "execution_count": 21,
   "metadata": {},
   "outputs": [
    {
     "name": "stdout",
     "output_type": "stream",
     "text": [
      "the variance for age, height, weight and BMI is: \n",
      "\n",
      "Age        42.058329\n",
      "Weight    202.136997\n",
      "Height      0.010783\n",
      "BMI         8.642721\n",
      "dtype: float64\n"
     ]
    }
   ],
   "source": [
    "# Calculate variance for multiple columns\n",
    "var_values = df[['Age','Weight', 'Height', 'BMI']].var()\n",
    "print('the variance for age, height, weight and BMI is: \\n')\n",
    "print(var_values)"
   ]
  },
  {
   "cell_type": "code",
   "execution_count": 22,
   "metadata": {},
   "outputs": [
    {
     "name": "stdout",
     "output_type": "stream",
     "text": [
      "   ID                      Name Sex   Age  Height  Weight            Team  \\\n",
      "0   1                 A Dijiang   M  24.0    1.80    80.0           China   \n",
      "1   2                  A Lamusi   M  23.0    1.70    60.0           China   \n",
      "2   3       Gunnar Nielsen Aaby   M  24.0     NaN     NaN         Denmark   \n",
      "3   4      Edgar Lindenau Aabye   M  34.0     NaN     NaN  Denmark/Sweden   \n",
      "4   5  Christine Jacoba Aaftink   F  21.0    1.85    82.0     Netherlands   \n",
      "5   5  Christine Jacoba Aaftink   F  21.0    1.85    82.0     Netherlands   \n",
      "6   5  Christine Jacoba Aaftink   F  25.0    1.85    82.0     Netherlands   \n",
      "7   5  Christine Jacoba Aaftink   F  25.0    1.85    82.0     Netherlands   \n",
      "8   5  Christine Jacoba Aaftink   F  27.0    1.85    82.0     Netherlands   \n",
      "9   5  Christine Jacoba Aaftink   F  27.0    1.85    82.0     Netherlands   \n",
      "\n",
      "   NOC        Games  Year  Season         City          Sport  \\\n",
      "0  CHN  1992 Summer  1992  Summer    Barcelona     Basketball   \n",
      "1  CHN  2012 Summer  2012  Summer       London           Judo   \n",
      "2  DEN  1920 Summer  1920  Summer    Antwerpen       Football   \n",
      "3  DEN  1900 Summer  1900  Summer        Paris     Tug-Of-War   \n",
      "4  NED  1988 Winter  1988  Winter      Calgary  Speed Skating   \n",
      "5  NED  1988 Winter  1988  Winter      Calgary  Speed Skating   \n",
      "6  NED  1992 Winter  1992  Winter  Albertville  Speed Skating   \n",
      "7  NED  1992 Winter  1992  Winter  Albertville  Speed Skating   \n",
      "8  NED  1994 Winter  1994  Winter  Lillehammer  Speed Skating   \n",
      "9  NED  1994 Winter  1994  Winter  Lillehammer  Speed Skating   \n",
      "\n",
      "                                Event Medal        BMI  \n",
      "0         Basketball Men's Basketball   NaN  24.691358  \n",
      "1        Judo Men's Extra-Lightweight   NaN  20.761246  \n",
      "2             Football Men's Football   NaN        NaN  \n",
      "3         Tug-Of-War Men's Tug-Of-War  Gold        NaN  \n",
      "4    Speed Skating Women's 500 metres   NaN  23.959094  \n",
      "5  Speed Skating Women's 1,000 metres   NaN  23.959094  \n",
      "6    Speed Skating Women's 500 metres   NaN  23.959094  \n",
      "7  Speed Skating Women's 1,000 metres   NaN  23.959094  \n",
      "8    Speed Skating Women's 500 metres   NaN  23.959094  \n",
      "9  Speed Skating Women's 1,000 metres   NaN  23.959094  \n"
     ]
    }
   ],
   "source": [
    "# Print the first 10 rows \n",
    "print(df.head(10))"
   ]
  },
  {
   "cell_type": "code",
   "execution_count": 43,
   "metadata": {},
   "outputs": [],
   "source": [
    "df['ID'] = df['ID'].fillna(-1)\n",
    "\n",
    "# Fill missing values for numeric columns with their means\n",
    "numeric_cols = df.select_dtypes(include='number').columns\n",
    "df[numeric_cols] = df[numeric_cols].fillna(df[numeric_cols].mean())\n",
    "\n",
    "# Fill missing values for categorical columns with their modes\n",
    "categorical_cols = df.select_dtypes(include='object').columns\n",
    "df[categorical_cols] = df[categorical_cols].fillna(df[categorical_cols].mode().iloc[0])"
   ]
  },
  {
   "cell_type": "code",
   "execution_count": 37,
   "metadata": {},
   "outputs": [
    {
     "name": "stdout",
     "output_type": "stream",
     "text": [
      "\n",
      "DataFrame after replacing missing values:\n",
      "          ID                            Name Sex   Age    Height     Weight  \\\n",
      "0          1                       A Dijiang   M  24.0  1.800000  80.000000   \n",
      "1          2                        A Lamusi   M  23.0  1.700000  60.000000   \n",
      "2          3             Gunnar Nielsen Aaby   M  24.0  1.755053  70.900216   \n",
      "3          4            Edgar Lindenau Aabye   M  34.0  1.755053  70.900216   \n",
      "4          5        Christine Jacoba Aaftink   F  21.0  1.850000  82.000000   \n",
      "...      ...                             ...  ..   ...       ...        ...   \n",
      "69995  35656              Stuart Fitzsimmons   M  19.0  1.755053  70.900216   \n",
      "69996  35656              Stuart Fitzsimmons   M  19.0  1.755053  70.900216   \n",
      "69997  35657  David Thomas \"Dave\" Fitzsimons   M  26.0  1.700000  65.000000   \n",
      "69998  35657  David Thomas \"Dave\" Fitzsimons   M  30.0  1.700000  65.000000   \n",
      "69999  35658                    Marek Fiurek   M  23.0  1.800000  68.000000   \n",
      "\n",
      "                 Team  NOC        Games  Year  Season       City  \\\n",
      "0               China  CHN  1992 Summer  1992  Summer  Barcelona   \n",
      "1               China  CHN  2012 Summer  2012  Summer     London   \n",
      "2             Denmark  DEN  1920 Summer  1920  Summer  Antwerpen   \n",
      "3      Denmark/Sweden  DEN  1900 Summer  1900  Summer      Paris   \n",
      "4         Netherlands  NED  1988 Winter  1988  Winter    Calgary   \n",
      "...               ...  ...          ...   ...     ...        ...   \n",
      "69995   Great Britain  GBR  1976 Winter  1976  Winter  Innsbruck   \n",
      "69996   Great Britain  GBR  1976 Winter  1976  Winter  Innsbruck   \n",
      "69997       Australia  AUS  1976 Summer  1976  Summer   Montreal   \n",
      "69998       Australia  AUS  1980 Summer  1980  Summer     Moskva   \n",
      "69999  Czech Republic  CZE  1998 Winter  1998  Winter     Nagano   \n",
      "\n",
      "                 Sport                             Event Medal        BMI  \n",
      "0           Basketball       Basketball Men's Basketball  Gold  24.691358  \n",
      "1                 Judo      Judo Men's Extra-Lightweight  Gold  20.761246  \n",
      "2             Football           Football Men's Football  Gold  22.809656  \n",
      "3           Tug-Of-War       Tug-Of-War Men's Tug-Of-War  Gold  22.809656  \n",
      "4        Speed Skating  Speed Skating Women's 500 metres  Gold  23.959094  \n",
      "...                ...                               ...   ...        ...  \n",
      "69995    Alpine Skiing  Alpine Skiing Men's Giant Slalom  Gold  22.809656  \n",
      "69996    Alpine Skiing        Alpine Skiing Men's Slalom  Gold  22.809656  \n",
      "69997        Athletics     Athletics Men's 10,000 metres  Gold  22.491349  \n",
      "69998        Athletics      Athletics Men's 5,000 metres  Gold  22.491349  \n",
      "69999  Nordic Combined        Nordic Combined Men's Team  Gold  20.987654  \n",
      "\n",
      "[70000 rows x 16 columns]\n"
     ]
    }
   ],
   "source": [
    "# Display the DataFrame after filling\n",
    "print('\\nDataFrame after replacing missing values:')\n",
    "print(df)"
   ]
  },
  {
   "cell_type": "code",
   "execution_count": 44,
   "metadata": {},
   "outputs": [
    {
     "data": {
      "text/plain": [
       "array([[<Axes: title={'center': 'Age'}>,\n",
       "        <Axes: title={'center': 'Height'}>],\n",
       "       [<Axes: title={'center': 'Weight'}>,\n",
       "        <Axes: title={'center': 'BMI'}>]], dtype=object)"
      ]
     },
     "execution_count": 44,
     "metadata": {},
     "output_type": "execute_result"
    },
    {
     "data": {
      "image/png": "[encoded data removed]",
      "text/plain": [
       "<Figure size 640x480 with 4 Axes>"
      ]
     },
     "metadata": {},
     "output_type": "display_data"
    }
   ],
   "source": [
    "import matplotlib.pyplot as plt\n",
    "\n",
    "# Specify the columns you want to plot\n",
    "columns_to_plot = ['Age', 'Height', 'Weight', 'BMI',]\n",
    "\n",
    "df[columns_to_plot].hist(bins=10, edgecolor='black')\n"
   ]
  },
  {
   "cell_type": "code",
   "execution_count": null,
   "metadata": {},
   "outputs": [],
   "source": []
  }
 ],
 "metadata": {
  "kernelspec": {
   "display_name": "Python 3 (ipykernel)",
   "language": "python",
   "name": "python3"
  },
  "language_info": {
   "codemirror_mode": {
    "name": "ipython",
    "version": 3
   },
   "file_extension": ".py",
   "mimetype": "text/x-python",
   "name": "python",
   "nbconvert_exporter": "python",
   "pygments_lexer": "ipython3",
   "version": "3.12.7"
  }
 },
 "nbformat": 4,
 "nbformat_minor": 4
}
